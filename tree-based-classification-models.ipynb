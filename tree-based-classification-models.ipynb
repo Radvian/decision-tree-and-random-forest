{
 "cells": [
  {
   "cell_type": "markdown",
   "metadata": {},
   "source": [
    "<img src=\"https://rhyme.com/assets/img/logo-dark.png\" align=center></img>\n",
    "<h2 align=\"center\">Predict Employee Churn with Decision Trees and Random Forests</h2>"
   ]
  },
  {
   "cell_type": "markdown",
   "metadata": {},
   "source": [
    " "
   ]
  },
  {
   "cell_type": "markdown",
   "metadata": {},
   "source": [
    "### Task 1: Import Libraries\n",
    "---"
   ]
  },
  {
   "cell_type": "code",
   "execution_count": 4,
   "metadata": {},
   "outputs": [
    {
     "name": "stdout",
     "output_type": "stream",
     "text": [
      "Collecting pandas-profiling[notebook]\n",
      "  Using cached pandas_profiling-2.9.0-py2.py3-none-any.whl (258 kB)\n",
      "Requirement already satisfied, skipping upgrade: numpy>=1.16.0 in c:\\programdata\\anaconda3\\lib\\site-packages (from pandas-profiling[notebook]) (1.18.1)\n",
      "Collecting tqdm>=4.43.0\n",
      "  Using cached tqdm-4.49.0-py2.py3-none-any.whl (69 kB)\n",
      "Requirement already satisfied, skipping upgrade: scipy>=1.4.1 in c:\\programdata\\anaconda3\\lib\\site-packages (from pandas-profiling[notebook]) (1.4.1)\n",
      "Requirement already satisfied, skipping upgrade: attrs>=19.3.0 in c:\\programdata\\anaconda3\\lib\\site-packages (from pandas-profiling[notebook]) (19.3.0)\n",
      "Collecting matplotlib>=3.2.0\n",
      "  Using cached matplotlib-3.3.2-cp37-cp37m-win_amd64.whl (8.5 MB)\n",
      "Requirement already satisfied, skipping upgrade: joblib in c:\\programdata\\anaconda3\\lib\\site-packages (from pandas-profiling[notebook]) (0.14.1)\n",
      "Collecting pandas!=1.0.0,!=1.0.1,!=1.0.2,!=1.1.0,>=0.25.3\n",
      "  Using cached pandas-1.1.2-cp37-cp37m-win_amd64.whl (9.4 MB)\n",
      "Requirement already satisfied, skipping upgrade: jinja2>=2.11.1 in c:\\programdata\\anaconda3\\lib\\site-packages (from pandas-profiling[notebook]) (2.11.1)\n",
      "Collecting visions[type_image_path]==0.5.0\n",
      "  Using cached visions-0.5.0-py3-none-any.whl (64 kB)\n",
      "Collecting missingno>=0.4.2\n",
      "  Using cached missingno-0.4.2-py3-none-any.whl (9.7 kB)\n",
      "Collecting seaborn>=0.10.1\n",
      "  Using cached seaborn-0.11.0-py3-none-any.whl (283 kB)\n",
      "Collecting requests>=2.23.0\n",
      "  Using cached requests-2.24.0-py2.py3-none-any.whl (61 kB)\n",
      "Collecting tangled-up-in-unicode>=0.0.6\n",
      "  Using cached tangled_up_in_unicode-0.0.6-py3-none-any.whl (3.1 MB)\n",
      "Processing c:\\users\\grady\\appdata\\local\\pip\\cache\\wheels\\70\\e1\\52\\5b14d250ba868768823940c3229e9950d201a26d0bd3ee8655\\htmlmin-0.1.12-py3-none-any.whl\n",
      "Collecting confuse>=1.0.0\n",
      "  Using cached confuse-1.3.0-py2.py3-none-any.whl (64 kB)\n",
      "Collecting phik>=0.9.10\n",
      "  Using cached phik-0.10.0-py3-none-any.whl (599 kB)\n",
      "Requirement already satisfied, skipping upgrade: ipywidgets>=7.5.1 in c:\\programdata\\anaconda3\\lib\\site-packages (from pandas-profiling[notebook]) (7.5.1)\n",
      "Collecting jupyter-core>=4.6.3; extra == \"notebook\"\n",
      "  Using cached jupyter_core-4.6.3-py2.py3-none-any.whl (83 kB)\n",
      "Collecting jupyter-client>=6.0.0; extra == \"notebook\"\n",
      "  Using cached jupyter_client-6.1.7-py3-none-any.whl (108 kB)\n",
      "Requirement already satisfied, skipping upgrade: pillow>=6.2.0 in c:\\programdata\\anaconda3\\lib\\site-packages (from matplotlib>=3.2.0->pandas-profiling[notebook]) (7.0.0)\n",
      "Requirement already satisfied, skipping upgrade: python-dateutil>=2.1 in c:\\programdata\\anaconda3\\lib\\site-packages (from matplotlib>=3.2.0->pandas-profiling[notebook]) (2.8.1)\n",
      "Requirement already satisfied, skipping upgrade: kiwisolver>=1.0.1 in c:\\programdata\\anaconda3\\lib\\site-packages (from matplotlib>=3.2.0->pandas-profiling[notebook]) (1.1.0)\n",
      "Requirement already satisfied, skipping upgrade: pyparsing!=2.0.4,!=2.1.2,!=2.1.6,>=2.0.3 in c:\\programdata\\anaconda3\\lib\\site-packages (from matplotlib>=3.2.0->pandas-profiling[notebook]) (2.4.6)\n",
      "Requirement already satisfied, skipping upgrade: cycler>=0.10 in c:\\programdata\\anaconda3\\lib\\site-packages (from matplotlib>=3.2.0->pandas-profiling[notebook]) (0.10.0)\n",
      "Collecting certifi>=2020.06.20\n",
      "  Using cached certifi-2020.6.20-py2.py3-none-any.whl (156 kB)\n",
      "Requirement already satisfied, skipping upgrade: pytz>=2017.2 in c:\\programdata\\anaconda3\\lib\\site-packages (from pandas!=1.0.0,!=1.0.1,!=1.0.2,!=1.1.0,>=0.25.3->pandas-profiling[notebook]) (2019.3)\n",
      "Requirement already satisfied, skipping upgrade: MarkupSafe>=0.23 in c:\\programdata\\anaconda3\\lib\\site-packages (from jinja2>=2.11.1->pandas-profiling[notebook]) (1.1.1)\n",
      "Requirement already satisfied, skipping upgrade: networkx>=2.4 in c:\\programdata\\anaconda3\\lib\\site-packages (from visions[type_image_path]==0.5.0->pandas-profiling[notebook]) (2.4)\n",
      "Processing c:\\users\\grady\\appdata\\local\\pip\\cache\\wheels\\16\\72\\b0\\e5be34699908d9ff25dcb3debbb717987b766af61bbddffdfe\\imagehash-4.1.0-py2.py3-none-any.whl\n",
      "Requirement already satisfied, skipping upgrade: urllib3!=1.25.0,!=1.25.1,<1.26,>=1.21.1 in c:\\programdata\\anaconda3\\lib\\site-packages (from requests>=2.23.0->pandas-profiling[notebook]) (1.25.8)\n",
      "Requirement already satisfied, skipping upgrade: idna<3,>=2.5 in c:\\programdata\\anaconda3\\lib\\site-packages (from requests>=2.23.0->pandas-profiling[notebook]) (2.8)\n",
      "Requirement already satisfied, skipping upgrade: chardet<4,>=3.0.2 in c:\\programdata\\anaconda3\\lib\\site-packages (from requests>=2.23.0->pandas-profiling[notebook]) (3.0.4)\n",
      "Requirement already satisfied, skipping upgrade: pyyaml in c:\\programdata\\anaconda3\\lib\\site-packages (from confuse>=1.0.0->pandas-profiling[notebook]) (5.3)\n",
      "Requirement already satisfied, skipping upgrade: numba>=0.38.1 in c:\\programdata\\anaconda3\\lib\\site-packages (from phik>=0.9.10->pandas-profiling[notebook]) (0.48.0)\n",
      "Requirement already satisfied, skipping upgrade: widgetsnbextension~=3.5.0 in c:\\programdata\\anaconda3\\lib\\site-packages (from ipywidgets>=7.5.1->pandas-profiling[notebook]) (3.5.1)\n",
      "Requirement already satisfied, skipping upgrade: nbformat>=4.2.0 in c:\\programdata\\anaconda3\\lib\\site-packages (from ipywidgets>=7.5.1->pandas-profiling[notebook]) (5.0.4)\n",
      "Requirement already satisfied, skipping upgrade: ipython>=4.0.0; python_version >= \"3.3\" in c:\\programdata\\anaconda3\\lib\\site-packages (from ipywidgets>=7.5.1->pandas-profiling[notebook]) (7.12.0)\n",
      "Requirement already satisfied, skipping upgrade: ipykernel>=4.5.1 in c:\\programdata\\anaconda3\\lib\\site-packages (from ipywidgets>=7.5.1->pandas-profiling[notebook]) (5.1.4)\n",
      "Requirement already satisfied, skipping upgrade: traitlets>=4.3.1 in c:\\programdata\\anaconda3\\lib\\site-packages (from ipywidgets>=7.5.1->pandas-profiling[notebook]) (4.3.3)\n",
      "Requirement already satisfied, skipping upgrade: pywin32>=1.0; sys_platform == \"win32\" in c:\\programdata\\anaconda3\\lib\\site-packages (from jupyter-core>=4.6.3; extra == \"notebook\"->pandas-profiling[notebook]) (227)\n",
      "Requirement already satisfied, skipping upgrade: pyzmq>=13 in c:\\programdata\\anaconda3\\lib\\site-packages (from jupyter-client>=6.0.0; extra == \"notebook\"->pandas-profiling[notebook]) (18.1.1)\n",
      "Requirement already satisfied, skipping upgrade: tornado>=4.1 in c:\\programdata\\anaconda3\\lib\\site-packages (from jupyter-client>=6.0.0; extra == \"notebook\"->pandas-profiling[notebook]) (6.0.3)\n",
      "Requirement already satisfied, skipping upgrade: six>=1.5 in c:\\programdata\\anaconda3\\lib\\site-packages (from python-dateutil>=2.1->matplotlib>=3.2.0->pandas-profiling[notebook]) (1.14.0)\n",
      "Requirement already satisfied, skipping upgrade: setuptools in c:\\programdata\\anaconda3\\lib\\site-packages (from kiwisolver>=1.0.1->matplotlib>=3.2.0->pandas-profiling[notebook]) (45.2.0.post20200210)\n",
      "Requirement already satisfied, skipping upgrade: decorator>=4.3.0 in c:\\programdata\\anaconda3\\lib\\site-packages (from networkx>=2.4->visions[type_image_path]==0.5.0->pandas-profiling[notebook]) (4.4.1)\n",
      "Requirement already satisfied, skipping upgrade: PyWavelets in c:\\programdata\\anaconda3\\lib\\site-packages (from imagehash; extra == \"type_image_path\"->visions[type_image_path]==0.5.0->pandas-profiling[notebook]) (1.1.1)\n",
      "Requirement already satisfied, skipping upgrade: llvmlite<0.32.0,>=0.31.0dev0 in c:\\programdata\\anaconda3\\lib\\site-packages (from numba>=0.38.1->phik>=0.9.10->pandas-profiling[notebook]) (0.31.0)\n",
      "Requirement already satisfied, skipping upgrade: notebook>=4.4.1 in c:\\programdata\\anaconda3\\lib\\site-packages (from widgetsnbextension~=3.5.0->ipywidgets>=7.5.1->pandas-profiling[notebook]) (6.0.3)\n",
      "Requirement already satisfied, skipping upgrade: ipython-genutils in c:\\programdata\\anaconda3\\lib\\site-packages (from nbformat>=4.2.0->ipywidgets>=7.5.1->pandas-profiling[notebook]) (0.2.0)\n",
      "Requirement already satisfied, skipping upgrade: jsonschema!=2.5.0,>=2.4 in c:\\programdata\\anaconda3\\lib\\site-packages (from nbformat>=4.2.0->ipywidgets>=7.5.1->pandas-profiling[notebook]) (3.2.0)\n",
      "Requirement already satisfied, skipping upgrade: jedi>=0.10 in c:\\programdata\\anaconda3\\lib\\site-packages (from ipython>=4.0.0; python_version >= \"3.3\"->ipywidgets>=7.5.1->pandas-profiling[notebook]) (0.14.1)\n",
      "Requirement already satisfied, skipping upgrade: pygments in c:\\programdata\\anaconda3\\lib\\site-packages (from ipython>=4.0.0; python_version >= \"3.3\"->ipywidgets>=7.5.1->pandas-profiling[notebook]) (2.5.2)\n",
      "Requirement already satisfied, skipping upgrade: colorama; sys_platform == \"win32\" in c:\\programdata\\anaconda3\\lib\\site-packages (from ipython>=4.0.0; python_version >= \"3.3\"->ipywidgets>=7.5.1->pandas-profiling[notebook]) (0.4.3)\n",
      "Requirement already satisfied, skipping upgrade: prompt-toolkit!=3.0.0,!=3.0.1,<3.1.0,>=2.0.0 in c:\\programdata\\anaconda3\\lib\\site-packages (from ipython>=4.0.0; python_version >= \"3.3\"->ipywidgets>=7.5.1->pandas-profiling[notebook]) (3.0.3)\n",
      "Requirement already satisfied, skipping upgrade: backcall in c:\\programdata\\anaconda3\\lib\\site-packages (from ipython>=4.0.0; python_version >= \"3.3\"->ipywidgets>=7.5.1->pandas-profiling[notebook]) (0.1.0)\n",
      "Requirement already satisfied, skipping upgrade: pickleshare in c:\\programdata\\anaconda3\\lib\\site-packages (from ipython>=4.0.0; python_version >= \"3.3\"->ipywidgets>=7.5.1->pandas-profiling[notebook]) (0.7.5)\n",
      "Requirement already satisfied, skipping upgrade: nbconvert in c:\\programdata\\anaconda3\\lib\\site-packages (from notebook>=4.4.1->widgetsnbextension~=3.5.0->ipywidgets>=7.5.1->pandas-profiling[notebook]) (5.6.1)\n",
      "Requirement already satisfied, skipping upgrade: terminado>=0.8.1 in c:\\programdata\\anaconda3\\lib\\site-packages (from notebook>=4.4.1->widgetsnbextension~=3.5.0->ipywidgets>=7.5.1->pandas-profiling[notebook]) (0.8.3)\n",
      "Requirement already satisfied, skipping upgrade: prometheus-client in c:\\programdata\\anaconda3\\lib\\site-packages (from notebook>=4.4.1->widgetsnbextension~=3.5.0->ipywidgets>=7.5.1->pandas-profiling[notebook]) (0.7.1)\n",
      "Requirement already satisfied, skipping upgrade: Send2Trash in c:\\programdata\\anaconda3\\lib\\site-packages (from notebook>=4.4.1->widgetsnbextension~=3.5.0->ipywidgets>=7.5.1->pandas-profiling[notebook]) (1.5.0)\n",
      "Requirement already satisfied, skipping upgrade: importlib-metadata; python_version < \"3.8\" in c:\\programdata\\anaconda3\\lib\\site-packages (from jsonschema!=2.5.0,>=2.4->nbformat>=4.2.0->ipywidgets>=7.5.1->pandas-profiling[notebook]) (1.5.0)\n",
      "Requirement already satisfied, skipping upgrade: pyrsistent>=0.14.0 in c:\\programdata\\anaconda3\\lib\\site-packages (from jsonschema!=2.5.0,>=2.4->nbformat>=4.2.0->ipywidgets>=7.5.1->pandas-profiling[notebook]) (0.15.7)\n",
      "Requirement already satisfied, skipping upgrade: parso>=0.5.0 in c:\\programdata\\anaconda3\\lib\\site-packages (from jedi>=0.10->ipython>=4.0.0; python_version >= \"3.3\"->ipywidgets>=7.5.1->pandas-profiling[notebook]) (0.5.2)\n",
      "Requirement already satisfied, skipping upgrade: wcwidth in c:\\programdata\\anaconda3\\lib\\site-packages (from prompt-toolkit!=3.0.0,!=3.0.1,<3.1.0,>=2.0.0->ipython>=4.0.0; python_version >= \"3.3\"->ipywidgets>=7.5.1->pandas-profiling[notebook]) (0.1.8)\n",
      "Requirement already satisfied, skipping upgrade: entrypoints>=0.2.2 in c:\\programdata\\anaconda3\\lib\\site-packages (from nbconvert->notebook>=4.4.1->widgetsnbextension~=3.5.0->ipywidgets>=7.5.1->pandas-profiling[notebook]) (0.3)\n",
      "Requirement already satisfied, skipping upgrade: defusedxml in c:\\programdata\\anaconda3\\lib\\site-packages (from nbconvert->notebook>=4.4.1->widgetsnbextension~=3.5.0->ipywidgets>=7.5.1->pandas-profiling[notebook]) (0.6.0)\n",
      "Requirement already satisfied, skipping upgrade: bleach in c:\\programdata\\anaconda3\\lib\\site-packages (from nbconvert->notebook>=4.4.1->widgetsnbextension~=3.5.0->ipywidgets>=7.5.1->pandas-profiling[notebook]) (3.1.0)\n",
      "Requirement already satisfied, skipping upgrade: pandocfilters>=1.4.1 in c:\\programdata\\anaconda3\\lib\\site-packages (from nbconvert->notebook>=4.4.1->widgetsnbextension~=3.5.0->ipywidgets>=7.5.1->pandas-profiling[notebook]) (1.4.2)\n",
      "Requirement already satisfied, skipping upgrade: testpath in c:\\programdata\\anaconda3\\lib\\site-packages (from nbconvert->notebook>=4.4.1->widgetsnbextension~=3.5.0->ipywidgets>=7.5.1->pandas-profiling[notebook]) (0.4.4)\n",
      "Requirement already satisfied, skipping upgrade: mistune<2,>=0.8.1 in c:\\programdata\\anaconda3\\lib\\site-packages (from nbconvert->notebook>=4.4.1->widgetsnbextension~=3.5.0->ipywidgets>=7.5.1->pandas-profiling[notebook]) (0.8.4)\n",
      "Requirement already satisfied, skipping upgrade: zipp>=0.5 in c:\\programdata\\anaconda3\\lib\\site-packages (from importlib-metadata; python_version < \"3.8\"->jsonschema!=2.5.0,>=2.4->nbformat>=4.2.0->ipywidgets>=7.5.1->pandas-profiling[notebook]) (2.2.0)\n",
      "Requirement already satisfied, skipping upgrade: webencodings in c:\\programdata\\anaconda3\\lib\\site-packages (from bleach->nbconvert->notebook>=4.4.1->widgetsnbextension~=3.5.0->ipywidgets>=7.5.1->pandas-profiling[notebook]) (0.5.1)\n",
      "Installing collected packages: tqdm, certifi, matplotlib, pandas, tangled-up-in-unicode, imagehash, visions, seaborn, missingno, requests, htmlmin, confuse, phik, jupyter-core, jupyter-client, pandas-profiling\n",
      "Successfully installed certifi-2020.6.20 confuse-1.3.0 htmlmin-0.1.12 imagehash-4.1.0 jupyter-client-6.1.7 jupyter-core-4.6.3 matplotlib-3.3.2 missingno-0.4.2 pandas-1.1.2 pandas-profiling-2.9.0 phik-0.10.0 requests-2.24.0 seaborn-0.11.0 tangled-up-in-unicode-0.0.6 tqdm-4.49.0 visions-0.5.0\n"
     ]
    },
    {
     "name": "stderr",
     "output_type": "stream",
     "text": [
      "  WARNING: The script tqdm.exe is installed in 'C:\\Users\\grady\\AppData\\Roaming\\Python\\Python37\\Scripts' which is not on PATH.\n",
      "  Consider adding this directory to PATH or, if you prefer to suppress this warning, use --no-warn-script-location.\n",
      "  WARNING: The script htmlmin.exe is installed in 'C:\\Users\\grady\\AppData\\Roaming\\Python\\Python37\\Scripts' which is not on PATH.\n",
      "  Consider adding this directory to PATH or, if you prefer to suppress this warning, use --no-warn-script-location.\n",
      "  WARNING: The script phik_trial.exe is installed in 'C:\\Users\\grady\\AppData\\Roaming\\Python\\Python37\\Scripts' which is not on PATH.\n",
      "  Consider adding this directory to PATH or, if you prefer to suppress this warning, use --no-warn-script-location.\n",
      "  WARNING: The scripts jupyter-migrate.exe, jupyter-troubleshoot.exe and jupyter.exe are installed in 'C:\\Users\\grady\\AppData\\Roaming\\Python\\Python37\\Scripts' which is not on PATH.\n",
      "  Consider adding this directory to PATH or, if you prefer to suppress this warning, use --no-warn-script-location.\n",
      "  WARNING: The scripts jupyter-kernel.exe, jupyter-kernelspec.exe and jupyter-run.exe are installed in 'C:\\Users\\grady\\AppData\\Roaming\\Python\\Python37\\Scripts' which is not on PATH.\n",
      "  Consider adding this directory to PATH or, if you prefer to suppress this warning, use --no-warn-script-location.\n",
      "  WARNING: The script pandas_profiling.exe is installed in 'C:\\Users\\grady\\AppData\\Roaming\\Python\\Python37\\Scripts' which is not on PATH.\n",
      "  Consider adding this directory to PATH or, if you prefer to suppress this warning, use --no-warn-script-location.\n",
      "Enabling notebook extension jupyter-js-widgets/extension...\n",
      "      - Validating: ok\n"
     ]
    }
   ],
   "source": [
    "import sys\n",
    "!{sys.executable} -m pip install -U pandas-profiling[notebook] --user\n",
    "!jupyter nbextension enable --py widgetsnbextension"
   ]
  },
  {
   "cell_type": "code",
   "execution_count": 5,
   "metadata": {},
   "outputs": [
    {
     "ename": "ModuleNotFoundError",
     "evalue": "No module named 'pandas_profiling'",
     "output_type": "error",
     "traceback": [
      "\u001b[1;31m---------------------------------------------------------------------------\u001b[0m",
      "\u001b[1;31mModuleNotFoundError\u001b[0m                       Traceback (most recent call last)",
      "\u001b[1;32m<ipython-input-5-9b8e2bc5ae9d>\u001b[0m in \u001b[0;36m<module>\u001b[1;34m\u001b[0m\n\u001b[0;32m      7\u001b[0m \u001b[1;32mimport\u001b[0m \u001b[0mmatplotlib\u001b[0m\u001b[1;33m.\u001b[0m\u001b[0mimage\u001b[0m \u001b[1;32mas\u001b[0m \u001b[0mimage\u001b[0m\u001b[1;33m\u001b[0m\u001b[1;33m\u001b[0m\u001b[0m\n\u001b[0;32m      8\u001b[0m \u001b[1;32mimport\u001b[0m \u001b[0mpandas\u001b[0m \u001b[1;32mas\u001b[0m \u001b[0mpd\u001b[0m\u001b[1;33m\u001b[0m\u001b[1;33m\u001b[0m\u001b[0m\n\u001b[1;32m----> 9\u001b[1;33m \u001b[1;32mimport\u001b[0m \u001b[0mpandas_profiling\u001b[0m\u001b[1;33m\u001b[0m\u001b[1;33m\u001b[0m\u001b[0m\n\u001b[0m\u001b[0;32m     10\u001b[0m \u001b[0mplt\u001b[0m\u001b[1;33m.\u001b[0m\u001b[0mstyle\u001b[0m\u001b[1;33m.\u001b[0m\u001b[0muse\u001b[0m\u001b[1;33m(\u001b[0m\u001b[1;34m\"ggplot\"\u001b[0m\u001b[1;33m)\u001b[0m\u001b[1;33m\u001b[0m\u001b[1;33m\u001b[0m\u001b[0m\n\u001b[0;32m     11\u001b[0m \u001b[0mwarnings\u001b[0m\u001b[1;33m.\u001b[0m\u001b[0msimplefilter\u001b[0m\u001b[1;33m(\u001b[0m\u001b[1;34m\"ignore\"\u001b[0m\u001b[1;33m)\u001b[0m\u001b[1;33m\u001b[0m\u001b[1;33m\u001b[0m\u001b[0m\n",
      "\u001b[1;31mModuleNotFoundError\u001b[0m: No module named 'pandas_profiling'"
     ]
    }
   ],
   "source": [
    "from __future__ import print_function\n",
    "%matplotlib inline\n",
    "import os\n",
    "import warnings\n",
    "import numpy as np\n",
    "import matplotlib.pyplot as plt\n",
    "import matplotlib.image as image\n",
    "import pandas as pd\n",
    "import pandas_profiling\n",
    "plt.style.use(\"ggplot\")\n",
    "warnings.simplefilter(\"ignore\")"
   ]
  },
  {
   "cell_type": "code",
   "execution_count": 2,
   "metadata": {},
   "outputs": [
    {
     "name": "stdout",
     "output_type": "stream",
     "text": [
      "Collecting package metadata (current_repodata.json): ...working... done\n",
      "Solving environment: ...working... done\n",
      "\n",
      "## Package Plan ##\n",
      "\n",
      "  environment location: C:\\ProgramData\\Anaconda3\n",
      "\n",
      "  added / updated specs:\n",
      "    - pandas-profiling\n",
      "\n",
      "\n",
      "The following NEW packages will be INSTALLED:\n",
      "\n",
      "  pandas-profiling   conda-forge/win-64::pandas-profiling-1.4.1-0\n",
      "\n",
      "The following packages will be UPDATED:\n",
      "\n",
      "  conda                                4.8.3-py37hc8dfbb8_1 --> 4.8.5-py37hc8dfbb8_1\n",
      "\n",
      "\n",
      "Preparing transaction: ...working... done\n",
      "Verifying transaction: ...working... failed\n",
      "\n",
      "Note: you may need to restart the kernel to use updated packages.\n"
     ]
    },
    {
     "name": "stderr",
     "output_type": "stream",
     "text": [
      "\n",
      "EnvironmentNotWritableError: The current user does not have write permissions to the target environment.\n",
      "  environment location: C:\\ProgramData\\Anaconda3\n",
      "\n",
      "\n"
     ]
    }
   ],
   "source": [
    "conda install -c conda-forge pandas-profiling"
   ]
  },
  {
   "cell_type": "code",
   "execution_count": null,
   "metadata": {},
   "outputs": [],
   "source": [
    "plt.rcParams['figure.figsize'] = (12,8)"
   ]
  },
  {
   "cell_type": "markdown",
   "metadata": {},
   "source": [
    " "
   ]
  },
  {
   "cell_type": "markdown",
   "metadata": {},
   "source": [
    "### Task 2: Exploratory Data Analysis\n",
    "---"
   ]
  },
  {
   "cell_type": "code",
   "execution_count": null,
   "metadata": {},
   "outputs": [],
   "source": []
  },
  {
   "cell_type": "code",
   "execution_count": null,
   "metadata": {},
   "outputs": [],
   "source": []
  },
  {
   "cell_type": "markdown",
   "metadata": {},
   "source": [
    " "
   ]
  },
  {
   "cell_type": "markdown",
   "metadata": {},
   "source": [
    "### Task 3: Encode Categorical Features\n",
    "---"
   ]
  },
  {
   "cell_type": "code",
   "execution_count": null,
   "metadata": {},
   "outputs": [],
   "source": []
  },
  {
   "cell_type": "code",
   "execution_count": null,
   "metadata": {},
   "outputs": [],
   "source": []
  },
  {
   "cell_type": "code",
   "execution_count": null,
   "metadata": {},
   "outputs": [],
   "source": []
  },
  {
   "cell_type": "code",
   "execution_count": null,
   "metadata": {},
   "outputs": [],
   "source": []
  },
  {
   "cell_type": "code",
   "execution_count": null,
   "metadata": {},
   "outputs": [],
   "source": []
  },
  {
   "cell_type": "markdown",
   "metadata": {},
   "source": [
    " "
   ]
  },
  {
   "cell_type": "markdown",
   "metadata": {},
   "source": [
    "### Task 4: Visualize Class Imbalance\n",
    "---"
   ]
  },
  {
   "cell_type": "code",
   "execution_count": null,
   "metadata": {},
   "outputs": [],
   "source": [
    "from yellowbrick.target import ClassBalance\n",
    "plt.style.use(\"ggplot\")\n",
    "plt.rcParams['figure.figsize'] = (12,8)"
   ]
  },
  {
   "cell_type": "code",
   "execution_count": null,
   "metadata": {},
   "outputs": [],
   "source": []
  },
  {
   "cell_type": "markdown",
   "metadata": {},
   "source": [
    "### Task 5: Create Training and Test Sets\n",
    "---"
   ]
  },
  {
   "cell_type": "code",
   "execution_count": null,
   "metadata": {},
   "outputs": [],
   "source": []
  },
  {
   "cell_type": "code",
   "execution_count": null,
   "metadata": {},
   "outputs": [],
   "source": []
  },
  {
   "cell_type": "markdown",
   "metadata": {},
   "source": [
    " "
   ]
  },
  {
   "cell_type": "markdown",
   "metadata": {},
   "source": [
    "### Task 6 & 7: Build an Interactive Decision Tree Classifier\n",
    "---"
   ]
  },
  {
   "cell_type": "markdown",
   "metadata": {},
   "source": [
    "Supervised learning: \n",
    "- The inputs are random variables $X = X_1, ..., X_p$;\n",
    "- The output is a random variable $Y.$"
   ]
  },
  {
   "cell_type": "markdown",
   "metadata": {},
   "source": [
    "- Data is a finite set $$\\mathbb{L}=\\{(x_i,y_i)|i=0, ..., N-1\\}$$\n",
    "where $x_i \\in X = X_1 \\times ... \\times X_p$ and $y_i \\in y$ are randomly drawn from $P_{X,Y}.$\n",
    "\n",
    "E.g., $(x_i,y_i)=((\\text{salary = low, department = sales, ...}),\\text{quit = 1})$\n",
    "\n",
    "- The goal is to find a model $\\varphi_\\mathbb{L}: X \\mapsto y$ minimizing $$\\text{Err}(\\varphi_\\mathbb{L}) = \\mathbb{E}_{X,Y}\\{L(Y, \\varphi_\\mathbb{L}(X))\\}.$$"
   ]
  },
  {
   "cell_type": "markdown",
   "metadata": {},
   "source": [
    "About:\n",
    " \n",
    " - Decision trees are non-parametric models which can model arbitrarily complex relations between inputs and outputs, without any a priori assumption\n",
    " \n",
    "- Decision trees handle numeric and categorical variables\n",
    "\n",
    "- They implement feature selection, making them robust to noisy features (to an extent)\n",
    "\n",
    "- Robust to outliers or errors in labels\n",
    "\n",
    "- Easily interpretable by even non-ML practioners."
   ]
  },
  {
   "cell_type": "markdown",
   "metadata": {},
   "source": [
    "#### Decision trees: partitioning the feature space:"
   ]
  },
  {
   "cell_type": "markdown",
   "metadata": {},
   "source": [
    "![partition](assets/images/partition-feature-space.png)\n",
    "\n",
    "- Decision trees generally have low bias but have high variance.\n",
    "- We will solve the high variance problem in Task 8."
   ]
  },
  {
   "cell_type": "code",
   "execution_count": null,
   "metadata": {},
   "outputs": [],
   "source": [
    "from sklearn import tree\n",
    "from sklearn.tree import DecisionTreeClassifier\n",
    "from sklearn.ensemble import RandomForestClassifier\n",
    "from sklearn.metrics import accuracy_score\n",
    "from sklearn.tree import export_graphviz # display the tree within a Jupyter notebook\n",
    "from IPython.display import SVG\n",
    "from graphviz import Source\n",
    "from IPython.display import display\n",
    "from ipywidgets import interactive, IntSlider, FloatSlider, interact\n",
    "import ipywidgets\n",
    "from IPython.display import Image\n",
    "from subprocess import call\n",
    "import matplotlib.image as mpimg"
   ]
  },
  {
   "cell_type": "code",
   "execution_count": null,
   "metadata": {
    "scrolled": false
   },
   "outputs": [],
   "source": []
  },
  {
   "cell_type": "markdown",
   "metadata": {},
   "source": [
    "### Task 8: Build an Interactive Random Forest Classifier\n",
    "---"
   ]
  },
  {
   "cell_type": "markdown",
   "metadata": {},
   "source": [
    "Although randomization increases bias, it is possible to get a reduction in variance of the ensemble. Random forests are one of the most robust machine learning algorithms for a variety of problems.\n",
    "\n",
    "- Randomization and averaging lead to a reduction in variance and improve accuracy\n",
    "- The implementations are parallelizable\n",
    "- Memory consumption and training time can be reduced by bootstrapping\n",
    "- Sampling features and not solely sampling examples is crucial to improving accuracy"
   ]
  },
  {
   "cell_type": "code",
   "execution_count": null,
   "metadata": {},
   "outputs": [],
   "source": [
    "@interact\n",
    "def plot_tree_rf(crit=,\n",
    "                 bootstrap=,\n",
    "                 depth=IntSlider(min=,max=,value=, continuous_update=False),\n",
    "                 forests=IntSlider(min=,max=,value=,continuous_update=False),\n",
    "                 min_split=IntSlider(min=,max=,value=, continuous_update=False),\n",
    "                 min_leaf=IntSlider(min=,max=,value=, continuous_update=False)):\n",
    "    \n",
    "    \n",
    "    "
   ]
  },
  {
   "cell_type": "markdown",
   "metadata": {},
   "source": [
    " "
   ]
  },
  {
   "cell_type": "markdown",
   "metadata": {},
   "source": [
    "### Task 9: Feature Importance and Evaluation Metrics\n",
    "---"
   ]
  },
  {
   "cell_type": "code",
   "execution_count": null,
   "metadata": {},
   "outputs": [],
   "source": [
    "from yellowbrick.model_selection import FeatureImportances\n",
    "plt.rcParams['figure.figsize'] = (12,8)\n",
    "plt.style.use(\"ggplot\")"
   ]
  },
  {
   "cell_type": "code",
   "execution_count": null,
   "metadata": {},
   "outputs": [],
   "source": [
    "### Type code below this line ###\n",
    "\n",
    "\n",
    "\n"
   ]
  },
  {
   "cell_type": "code",
   "execution_count": null,
   "metadata": {},
   "outputs": [],
   "source": [
    "## Plotting Code ##\n",
    "from yellowbrick.classifier import ROCAUC\n",
    "\n",
    "visualizer = ROCAUC(rf, classes=[\"stayed\", \"quit\"])\n",
    "\n",
    "visualizer.fit(X_train, y_train)        # Fit the training data to the visualizer\n",
    "visualizer.score(X_test, y_test)        # Evaluate the model on the test data\n",
    "visualizer.poof();"
   ]
  },
  {
   "cell_type": "code",
   "execution_count": null,
   "metadata": {},
   "outputs": [],
   "source": [
    "## Plotting Code ##\n",
    "dt = DecisionTreeClassifier(class_weight=None, criterion='gini', max_depth=2,\n",
    "            max_features=None, max_leaf_nodes=None,\n",
    "            min_impurity_decrease=0.0, min_impurity_split=None,\n",
    "            min_samples_leaf=1, min_samples_split=2,\n",
    "            min_weight_fraction_leaf=0.0, presort=False, random_state=0,\n",
    "            splitter='best')\n",
    "\n",
    "visualizer = ROCAUC(dt, classes=[\"stayed\", \"quit\"])\n",
    "\n",
    "visualizer.fit(X_train, y_train)        # Fit the training data to the visualizer\n",
    "visualizer.score(X_test, y_test)        # Evaluate the model on the test data\n",
    "visualizer.poof();"
   ]
  },
  {
   "cell_type": "markdown",
   "metadata": {},
   "source": [
    " "
   ]
  },
  {
   "cell_type": "markdown",
   "metadata": {
    "heading_collapsed": true
   },
   "source": [
    "### Optional: Comparison with Logistic Regression Classifier\n",
    "---"
   ]
  },
  {
   "cell_type": "code",
   "execution_count": null,
   "metadata": {
    "hidden": true
   },
   "outputs": [],
   "source": [
    "from sklearn.linear_model import LogisticRegressionCV\n",
    "\n",
    "logit = LogisticRegressionCV(random_state=1, n_jobs=-1,max_iter=500,\n",
    "                             cv=10)\n",
    "\n",
    "lr = logit.fit(X_train, y_train)\n",
    "\n",
    "print('Logistic Regression Accuracy: {:.3f}'.format(accuracy_score(y_test, lr.predict(X_test))))\n",
    "\n",
    "visualizer = ROCAUC(lr, classes=[\"stayed\", \"quit\"])\n",
    "\n",
    "visualizer.fit(X_train, y_train)        # Fit the training data to the visualizer\n",
    "visualizer.score(X_test, y_test)        # Evaluate the model on the test data\n",
    "visualizer.poof();"
   ]
  },
  {
   "cell_type": "code",
   "execution_count": null,
   "metadata": {
    "hidden": true
   },
   "outputs": [],
   "source": []
  }
 ],
 "metadata": {
  "kernelspec": {
   "display_name": "Python 3",
   "language": "python",
   "name": "python3"
  },
  "language_info": {
   "codemirror_mode": {
    "name": "ipython",
    "version": 3
   },
   "file_extension": ".py",
   "mimetype": "text/x-python",
   "name": "python",
   "nbconvert_exporter": "python",
   "pygments_lexer": "ipython3",
   "version": "3.7.6"
  },
  "latex_envs": {
   "LaTeX_envs_menu_present": true,
   "autoclose": false,
   "autocomplete": true,
   "bibliofile": "biblio.bib",
   "cite_by": "apalike",
   "current_citInitial": 1,
   "eqLabelWithNumbers": true,
   "eqNumInitial": 1,
   "hotkeys": {
    "equation": "Ctrl-E",
    "itemize": "Ctrl-I"
   },
   "labels_anchors": false,
   "latex_user_defs": false,
   "report_style_numbering": false,
   "user_envs_cfg": false
  }
 },
 "nbformat": 4,
 "nbformat_minor": 2
}
